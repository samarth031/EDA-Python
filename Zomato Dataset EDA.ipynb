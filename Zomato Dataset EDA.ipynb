{
 "cells": [
  {
   "cell_type": "code",
   "execution_count": 3,
   "id": "46935662",
   "metadata": {},
   "outputs": [],
   "source": [
    "path = \"C:/Users/sam/Desktop/EDA/\""
   ]
  },
  {
   "cell_type": "code",
   "execution_count": 27,
   "id": "b2584123",
   "metadata": {},
   "outputs": [],
   "source": [
    "import pandas\n",
    "import os\n",
    "import numpy\n",
    "import matplotlib.pyplot as plt\n",
    "import seaborn as sns"
   ]
  },
  {
   "cell_type": "code",
   "execution_count": 6,
   "id": "e6ef7469",
   "metadata": {},
   "outputs": [],
   "source": [
    "df = pandas.read_csv(os.path.join(path, \"zomato.csv\"), encoding=\"latin-1\")"
   ]
  },
  {
   "cell_type": "code",
   "execution_count": 8,
   "id": "dac58753",
   "metadata": {},
   "outputs": [
    {
     "name": "stdout",
     "output_type": "stream",
     "text": [
      "['Restaurant ID', 'Restaurant Name', 'Country Code', 'City', 'Address', 'Locality', 'Locality Verbose', 'Longitude', 'Latitude', 'Cuisines', 'Average Cost for two', 'Currency', 'Has Table booking', 'Has Online delivery', 'Is delivering now', 'Switch to order menu', 'Price range', 'Aggregate rating', 'Rating color', 'Rating text', 'Votes']\n",
      "(9551, 21)\n",
      "   Restaurant ID         Restaurant Name  Country Code              City  \\\n",
      "0        6317637        Le Petit Souffle           162       Makati City   \n",
      "1        6304287        Izakaya Kikufuji           162       Makati City   \n",
      "2        6300002  Heat - Edsa Shangri-La           162  Mandaluyong City   \n",
      "3        6318506                    Ooma           162  Mandaluyong City   \n",
      "4        6314302             Sambo Kojin           162  Mandaluyong City   \n",
      "\n",
      "                                             Address  \\\n",
      "0  Third Floor, Century City Mall, Kalayaan Avenu...   \n",
      "1  Little Tokyo, 2277 Chino Roces Avenue, Legaspi...   \n",
      "2  Edsa Shangri-La, 1 Garden Way, Ortigas, Mandal...   \n",
      "3  Third Floor, Mega Fashion Hall, SM Megamall, O...   \n",
      "4  Third Floor, Mega Atrium, SM Megamall, Ortigas...   \n",
      "\n",
      "                                     Locality  \\\n",
      "0   Century City Mall, Poblacion, Makati City   \n",
      "1  Little Tokyo, Legaspi Village, Makati City   \n",
      "2  Edsa Shangri-La, Ortigas, Mandaluyong City   \n",
      "3      SM Megamall, Ortigas, Mandaluyong City   \n",
      "4      SM Megamall, Ortigas, Mandaluyong City   \n",
      "\n",
      "                                    Locality Verbose   Longitude   Latitude  \\\n",
      "0  Century City Mall, Poblacion, Makati City, Mak...  121.027535  14.565443   \n",
      "1  Little Tokyo, Legaspi Village, Makati City, Ma...  121.014101  14.553708   \n",
      "2  Edsa Shangri-La, Ortigas, Mandaluyong City, Ma...  121.056831  14.581404   \n",
      "3  SM Megamall, Ortigas, Mandaluyong City, Mandal...  121.056475  14.585318   \n",
      "4  SM Megamall, Ortigas, Mandaluyong City, Mandal...  121.057508  14.584450   \n",
      "\n",
      "                           Cuisines  ...          Currency Has Table booking  \\\n",
      "0        French, Japanese, Desserts  ...  Botswana Pula(P)               Yes   \n",
      "1                          Japanese  ...  Botswana Pula(P)               Yes   \n",
      "2  Seafood, Asian, Filipino, Indian  ...  Botswana Pula(P)               Yes   \n",
      "3                   Japanese, Sushi  ...  Botswana Pula(P)                No   \n",
      "4                  Japanese, Korean  ...  Botswana Pula(P)               Yes   \n",
      "\n",
      "  Has Online delivery Is delivering now Switch to order menu Price range  \\\n",
      "0                  No                No                   No           3   \n",
      "1                  No                No                   No           3   \n",
      "2                  No                No                   No           4   \n",
      "3                  No                No                   No           4   \n",
      "4                  No                No                   No           4   \n",
      "\n",
      "   Aggregate rating  Rating color Rating text Votes  \n",
      "0               4.8    Dark Green   Excellent   314  \n",
      "1               4.5    Dark Green   Excellent   591  \n",
      "2               4.4         Green   Very Good   270  \n",
      "3               4.9    Dark Green   Excellent   365  \n",
      "4               4.8    Dark Green   Excellent   229  \n",
      "\n",
      "[5 rows x 21 columns]\n"
     ]
    }
   ],
   "source": [
    "print(df.columns.tolist())\n",
    "print(df.shape)\n",
    "print(df.head(5))"
   ]
  },
  {
   "cell_type": "code",
   "execution_count": 9,
   "id": "c064ba59",
   "metadata": {},
   "outputs": [
    {
     "name": "stdout",
     "output_type": "stream",
     "text": [
      "<class 'pandas.core.frame.DataFrame'>\n",
      "RangeIndex: 9551 entries, 0 to 9550\n",
      "Data columns (total 21 columns):\n",
      " #   Column                Non-Null Count  Dtype  \n",
      "---  ------                --------------  -----  \n",
      " 0   Restaurant ID         9551 non-null   int64  \n",
      " 1   Restaurant Name       9551 non-null   object \n",
      " 2   Country Code          9551 non-null   int64  \n",
      " 3   City                  9551 non-null   object \n",
      " 4   Address               9551 non-null   object \n",
      " 5   Locality              9551 non-null   object \n",
      " 6   Locality Verbose      9551 non-null   object \n",
      " 7   Longitude             9551 non-null   float64\n",
      " 8   Latitude              9551 non-null   float64\n",
      " 9   Cuisines              9542 non-null   object \n",
      " 10  Average Cost for two  9551 non-null   int64  \n",
      " 11  Currency              9551 non-null   object \n",
      " 12  Has Table booking     9551 non-null   object \n",
      " 13  Has Online delivery   9551 non-null   object \n",
      " 14  Is delivering now     9551 non-null   object \n",
      " 15  Switch to order menu  9551 non-null   object \n",
      " 16  Price range           9551 non-null   int64  \n",
      " 17  Aggregate rating      9551 non-null   float64\n",
      " 18  Rating color          9551 non-null   object \n",
      " 19  Rating text           9551 non-null   object \n",
      " 20  Votes                 9551 non-null   int64  \n",
      "dtypes: float64(3), int64(5), object(13)\n",
      "memory usage: 1.5+ MB\n"
     ]
    }
   ],
   "source": [
    "df.info()"
   ]
  },
  {
   "cell_type": "code",
   "execution_count": 10,
   "id": "a007c954",
   "metadata": {},
   "outputs": [
    {
     "data": {
      "text/html": [
       "<div>\n",
       "<style scoped>\n",
       "    .dataframe tbody tr th:only-of-type {\n",
       "        vertical-align: middle;\n",
       "    }\n",
       "\n",
       "    .dataframe tbody tr th {\n",
       "        vertical-align: top;\n",
       "    }\n",
       "\n",
       "    .dataframe thead th {\n",
       "        text-align: right;\n",
       "    }\n",
       "</style>\n",
       "<table border=\"1\" class=\"dataframe\">\n",
       "  <thead>\n",
       "    <tr style=\"text-align: right;\">\n",
       "      <th></th>\n",
       "      <th>Restaurant ID</th>\n",
       "      <th>Country Code</th>\n",
       "      <th>Longitude</th>\n",
       "      <th>Latitude</th>\n",
       "      <th>Average Cost for two</th>\n",
       "      <th>Price range</th>\n",
       "      <th>Aggregate rating</th>\n",
       "      <th>Votes</th>\n",
       "    </tr>\n",
       "  </thead>\n",
       "  <tbody>\n",
       "    <tr>\n",
       "      <th>count</th>\n",
       "      <td>9.551000e+03</td>\n",
       "      <td>9551.000000</td>\n",
       "      <td>9551.000000</td>\n",
       "      <td>9551.000000</td>\n",
       "      <td>9551.000000</td>\n",
       "      <td>9551.000000</td>\n",
       "      <td>9551.000000</td>\n",
       "      <td>9551.000000</td>\n",
       "    </tr>\n",
       "    <tr>\n",
       "      <th>mean</th>\n",
       "      <td>9.051128e+06</td>\n",
       "      <td>18.365616</td>\n",
       "      <td>64.126574</td>\n",
       "      <td>25.854381</td>\n",
       "      <td>1199.210763</td>\n",
       "      <td>1.804837</td>\n",
       "      <td>2.666370</td>\n",
       "      <td>156.909748</td>\n",
       "    </tr>\n",
       "    <tr>\n",
       "      <th>std</th>\n",
       "      <td>8.791521e+06</td>\n",
       "      <td>56.750546</td>\n",
       "      <td>41.467058</td>\n",
       "      <td>11.007935</td>\n",
       "      <td>16121.183073</td>\n",
       "      <td>0.905609</td>\n",
       "      <td>1.516378</td>\n",
       "      <td>430.169145</td>\n",
       "    </tr>\n",
       "    <tr>\n",
       "      <th>min</th>\n",
       "      <td>5.300000e+01</td>\n",
       "      <td>1.000000</td>\n",
       "      <td>-157.948486</td>\n",
       "      <td>-41.330428</td>\n",
       "      <td>0.000000</td>\n",
       "      <td>1.000000</td>\n",
       "      <td>0.000000</td>\n",
       "      <td>0.000000</td>\n",
       "    </tr>\n",
       "    <tr>\n",
       "      <th>25%</th>\n",
       "      <td>3.019625e+05</td>\n",
       "      <td>1.000000</td>\n",
       "      <td>77.081343</td>\n",
       "      <td>28.478713</td>\n",
       "      <td>250.000000</td>\n",
       "      <td>1.000000</td>\n",
       "      <td>2.500000</td>\n",
       "      <td>5.000000</td>\n",
       "    </tr>\n",
       "    <tr>\n",
       "      <th>50%</th>\n",
       "      <td>6.004089e+06</td>\n",
       "      <td>1.000000</td>\n",
       "      <td>77.191964</td>\n",
       "      <td>28.570469</td>\n",
       "      <td>400.000000</td>\n",
       "      <td>2.000000</td>\n",
       "      <td>3.200000</td>\n",
       "      <td>31.000000</td>\n",
       "    </tr>\n",
       "    <tr>\n",
       "      <th>75%</th>\n",
       "      <td>1.835229e+07</td>\n",
       "      <td>1.000000</td>\n",
       "      <td>77.282006</td>\n",
       "      <td>28.642758</td>\n",
       "      <td>700.000000</td>\n",
       "      <td>2.000000</td>\n",
       "      <td>3.700000</td>\n",
       "      <td>131.000000</td>\n",
       "    </tr>\n",
       "    <tr>\n",
       "      <th>max</th>\n",
       "      <td>1.850065e+07</td>\n",
       "      <td>216.000000</td>\n",
       "      <td>174.832089</td>\n",
       "      <td>55.976980</td>\n",
       "      <td>800000.000000</td>\n",
       "      <td>4.000000</td>\n",
       "      <td>4.900000</td>\n",
       "      <td>10934.000000</td>\n",
       "    </tr>\n",
       "  </tbody>\n",
       "</table>\n",
       "</div>"
      ],
      "text/plain": [
       "       Restaurant ID  Country Code    Longitude     Latitude  \\\n",
       "count   9.551000e+03   9551.000000  9551.000000  9551.000000   \n",
       "mean    9.051128e+06     18.365616    64.126574    25.854381   \n",
       "std     8.791521e+06     56.750546    41.467058    11.007935   \n",
       "min     5.300000e+01      1.000000  -157.948486   -41.330428   \n",
       "25%     3.019625e+05      1.000000    77.081343    28.478713   \n",
       "50%     6.004089e+06      1.000000    77.191964    28.570469   \n",
       "75%     1.835229e+07      1.000000    77.282006    28.642758   \n",
       "max     1.850065e+07    216.000000   174.832089    55.976980   \n",
       "\n",
       "       Average Cost for two  Price range  Aggregate rating         Votes  \n",
       "count           9551.000000  9551.000000       9551.000000   9551.000000  \n",
       "mean            1199.210763     1.804837          2.666370    156.909748  \n",
       "std            16121.183073     0.905609          1.516378    430.169145  \n",
       "min                0.000000     1.000000          0.000000      0.000000  \n",
       "25%              250.000000     1.000000          2.500000      5.000000  \n",
       "50%              400.000000     2.000000          3.200000     31.000000  \n",
       "75%              700.000000     2.000000          3.700000    131.000000  \n",
       "max           800000.000000     4.000000          4.900000  10934.000000  "
      ]
     },
     "execution_count": 10,
     "metadata": {},
     "output_type": "execute_result"
    }
   ],
   "source": [
    "df.describe()"
   ]
  },
  {
   "cell_type": "code",
   "execution_count": 11,
   "id": "e9916bba",
   "metadata": {},
   "outputs": [],
   "source": [
    "country = pandas.read_excel(os.path.join(path, \"Country-Code.xlsx\"))"
   ]
  },
  {
   "cell_type": "code",
   "execution_count": 12,
   "id": "012fbb07",
   "metadata": {},
   "outputs": [
    {
     "data": {
      "text/html": [
       "<div>\n",
       "<style scoped>\n",
       "    .dataframe tbody tr th:only-of-type {\n",
       "        vertical-align: middle;\n",
       "    }\n",
       "\n",
       "    .dataframe tbody tr th {\n",
       "        vertical-align: top;\n",
       "    }\n",
       "\n",
       "    .dataframe thead th {\n",
       "        text-align: right;\n",
       "    }\n",
       "</style>\n",
       "<table border=\"1\" class=\"dataframe\">\n",
       "  <thead>\n",
       "    <tr style=\"text-align: right;\">\n",
       "      <th></th>\n",
       "      <th>Country Code</th>\n",
       "      <th>Country</th>\n",
       "    </tr>\n",
       "  </thead>\n",
       "  <tbody>\n",
       "    <tr>\n",
       "      <th>0</th>\n",
       "      <td>1</td>\n",
       "      <td>India</td>\n",
       "    </tr>\n",
       "    <tr>\n",
       "      <th>1</th>\n",
       "      <td>14</td>\n",
       "      <td>Australia</td>\n",
       "    </tr>\n",
       "    <tr>\n",
       "      <th>2</th>\n",
       "      <td>30</td>\n",
       "      <td>Brazil</td>\n",
       "    </tr>\n",
       "    <tr>\n",
       "      <th>3</th>\n",
       "      <td>37</td>\n",
       "      <td>Canada</td>\n",
       "    </tr>\n",
       "    <tr>\n",
       "      <th>4</th>\n",
       "      <td>94</td>\n",
       "      <td>Indonesia</td>\n",
       "    </tr>\n",
       "    <tr>\n",
       "      <th>5</th>\n",
       "      <td>148</td>\n",
       "      <td>New Zealand</td>\n",
       "    </tr>\n",
       "    <tr>\n",
       "      <th>6</th>\n",
       "      <td>162</td>\n",
       "      <td>Phillipines</td>\n",
       "    </tr>\n",
       "    <tr>\n",
       "      <th>7</th>\n",
       "      <td>166</td>\n",
       "      <td>Qatar</td>\n",
       "    </tr>\n",
       "    <tr>\n",
       "      <th>8</th>\n",
       "      <td>184</td>\n",
       "      <td>Singapore</td>\n",
       "    </tr>\n",
       "    <tr>\n",
       "      <th>9</th>\n",
       "      <td>189</td>\n",
       "      <td>South Africa</td>\n",
       "    </tr>\n",
       "    <tr>\n",
       "      <th>10</th>\n",
       "      <td>191</td>\n",
       "      <td>Sri Lanka</td>\n",
       "    </tr>\n",
       "    <tr>\n",
       "      <th>11</th>\n",
       "      <td>208</td>\n",
       "      <td>Turkey</td>\n",
       "    </tr>\n",
       "    <tr>\n",
       "      <th>12</th>\n",
       "      <td>214</td>\n",
       "      <td>UAE</td>\n",
       "    </tr>\n",
       "    <tr>\n",
       "      <th>13</th>\n",
       "      <td>215</td>\n",
       "      <td>United Kingdom</td>\n",
       "    </tr>\n",
       "    <tr>\n",
       "      <th>14</th>\n",
       "      <td>216</td>\n",
       "      <td>United States</td>\n",
       "    </tr>\n",
       "  </tbody>\n",
       "</table>\n",
       "</div>"
      ],
      "text/plain": [
       "    Country Code         Country\n",
       "0              1           India\n",
       "1             14       Australia\n",
       "2             30          Brazil\n",
       "3             37          Canada\n",
       "4             94       Indonesia\n",
       "5            148     New Zealand\n",
       "6            162     Phillipines\n",
       "7            166           Qatar\n",
       "8            184       Singapore\n",
       "9            189    South Africa\n",
       "10           191       Sri Lanka\n",
       "11           208          Turkey\n",
       "12           214             UAE\n",
       "13           215  United Kingdom\n",
       "14           216   United States"
      ]
     },
     "execution_count": 12,
     "metadata": {},
     "output_type": "execute_result"
    }
   ],
   "source": [
    "country"
   ]
  },
  {
   "cell_type": "code",
   "execution_count": 13,
   "id": "72b4cf40",
   "metadata": {},
   "outputs": [],
   "source": [
    "df = pandas.merge(df, country, on=\"Country Code\", how=\"left\").reset_index(drop=True)"
   ]
  },
  {
   "cell_type": "code",
   "execution_count": 16,
   "id": "3c8823c9",
   "metadata": {},
   "outputs": [
    {
     "data": {
      "text/plain": [
       "['Restaurant ID',\n",
       " 'Restaurant Name',\n",
       " 'Country Code',\n",
       " 'City',\n",
       " 'Address',\n",
       " 'Locality',\n",
       " 'Locality Verbose',\n",
       " 'Longitude',\n",
       " 'Latitude',\n",
       " 'Cuisines',\n",
       " 'Average Cost for two',\n",
       " 'Currency',\n",
       " 'Has Table booking',\n",
       " 'Has Online delivery',\n",
       " 'Is delivering now',\n",
       " 'Switch to order menu',\n",
       " 'Price range',\n",
       " 'Aggregate rating',\n",
       " 'Rating color',\n",
       " 'Rating text',\n",
       " 'Votes',\n",
       " 'Country']"
      ]
     },
     "execution_count": 16,
     "metadata": {},
     "output_type": "execute_result"
    }
   ],
   "source": [
    "df.columns.tolist()"
   ]
  },
  {
   "cell_type": "code",
   "execution_count": 17,
   "id": "a95ead22",
   "metadata": {},
   "outputs": [
    {
     "data": {
      "text/plain": [
       "Restaurant ID           0\n",
       "Restaurant Name         0\n",
       "Country Code            0\n",
       "City                    0\n",
       "Address                 0\n",
       "Locality                0\n",
       "Locality Verbose        0\n",
       "Longitude               0\n",
       "Latitude                0\n",
       "Cuisines                9\n",
       "Average Cost for two    0\n",
       "Currency                0\n",
       "Has Table booking       0\n",
       "Has Online delivery     0\n",
       "Is delivering now       0\n",
       "Switch to order menu    0\n",
       "Price range             0\n",
       "Aggregate rating        0\n",
       "Rating color            0\n",
       "Rating text             0\n",
       "Votes                   0\n",
       "Country                 0\n",
       "dtype: int64"
      ]
     },
     "execution_count": 17,
     "metadata": {},
     "output_type": "execute_result"
    }
   ],
   "source": [
    "df.isnull().sum()"
   ]
  },
  {
   "cell_type": "code",
   "execution_count": 18,
   "id": "11894a18",
   "metadata": {},
   "outputs": [],
   "source": [
    "country_names = df[\"Country\"].value_counts().index\n",
    "country_counts = df[\"Country\"].value_counts().values"
   ]
  },
  {
   "cell_type": "code",
   "execution_count": 21,
   "id": "6adc127b",
   "metadata": {},
   "outputs": [
    {
     "data": {
      "text/plain": [
       "([<matplotlib.patches.Wedge at 0x2184416bca0>,\n",
       "  <matplotlib.patches.Wedge at 0x21844ec23d0>,\n",
       "  <matplotlib.patches.Wedge at 0x21844ec2a90>],\n",
       " [Text(-1.0829742700952103, 0.19278674827836725, 'India'),\n",
       "  Text(1.077281715838356, -0.22240527134123297, 'United States'),\n",
       "  Text(1.0995865153823035, -0.03015783794312073, 'United Kingdom')],\n",
       " [Text(-0.590713238233751, 0.10515640815183668, '94.39%'),\n",
       "  Text(0.5876082086391032, -0.12131196618612707, '4.73%'),\n",
       "  Text(0.5997744629358018, -0.01644972978715676, '0.87%')])"
      ]
     },
     "execution_count": 21,
     "metadata": {},
     "output_type": "execute_result"
    },
    {
     "data": {
      "image/png": "[encoded data removed]",
      "text/plain": [
       "<Figure size 432x288 with 1 Axes>"
      ]
     },
     "metadata": {},
     "output_type": "display_data"
    }
   ],
   "source": [
    "plt.pie(country_counts[:3], labels=country_names[:3], autopct=\"%1.2f%%\") # Taking top three else pie looks ugly"
   ]
  },
  {
   "cell_type": "code",
   "execution_count": null,
   "id": "a7376173",
   "metadata": {},
   "outputs": [],
   "source": [
    "# From this dataset, we see that India has most transactions/records."
   ]
  },
  {
   "cell_type": "code",
   "execution_count": 26,
   "id": "0ec8cab2",
   "metadata": {},
   "outputs": [
    {
     "name": "stdout",
     "output_type": "stream",
     "text": [
      "    Aggregate rating Rating color Rating text  Count\n",
      "0                0.0        White   Not rated   2148\n",
      "1                1.8          Red        Poor      1\n",
      "2                1.9          Red        Poor      2\n",
      "3                2.0          Red        Poor      7\n",
      "4                2.1          Red        Poor     15\n",
      "5                2.2          Red        Poor     27\n",
      "6                2.3          Red        Poor     47\n",
      "7                2.4          Red        Poor     87\n",
      "8                2.5       Orange     Average    110\n",
      "9                2.6       Orange     Average    191\n",
      "10               2.7       Orange     Average    250\n",
      "11               2.8       Orange     Average    315\n",
      "12               2.9       Orange     Average    381\n",
      "13               3.0       Orange     Average    468\n",
      "14               3.1       Orange     Average    519\n",
      "15               3.2       Orange     Average    522\n",
      "16               3.3       Orange     Average    483\n",
      "17               3.4       Orange     Average    498\n",
      "18               3.5       Yellow        Good    480\n",
      "19               3.6       Yellow        Good    458\n",
      "20               3.7       Yellow        Good    427\n",
      "21               3.8       Yellow        Good    400\n",
      "22               3.9       Yellow        Good    335\n",
      "23               4.0        Green   Very Good    266\n",
      "24               4.1        Green   Very Good    274\n",
      "25               4.2        Green   Very Good    221\n",
      "26               4.3        Green   Very Good    174\n",
      "27               4.4        Green   Very Good    144\n",
      "28               4.5   Dark Green   Excellent     95\n",
      "29               4.6   Dark Green   Excellent     78\n",
      "30               4.7   Dark Green   Excellent     42\n",
      "31               4.8   Dark Green   Excellent     25\n",
      "32               4.9   Dark Green   Excellent     61\n"
     ]
    }
   ],
   "source": [
    "grouped = df.groupby([\"Aggregate rating\", \"Rating color\", \"Rating text\"]).size().reset_index().rename(columns={0: \"Count\"})\n",
    "print(grouped)"
   ]
  },
  {
   "cell_type": "code",
   "execution_count": 29,
   "id": "4f60e659",
   "metadata": {},
   "outputs": [
    {
     "data": {
      "text/plain": [
       "<AxesSubplot:xlabel='Aggregate rating', ylabel='Count'>"
      ]
     },
     "execution_count": 29,
     "metadata": {},
     "output_type": "execute_result"
    },
    {
     "data": {
      "image/png": "[encoded data removed]",
      "text/plain": [
       "<Figure size 864x432 with 1 Axes>"
      ]
     },
     "metadata": {
      "needs_background": "light"
     },
     "output_type": "display_data"
    }
   ],
   "source": [
    "import matplotlib\n",
    "matplotlib.rcParams['figure.figsize'] = (12, 6)\n",
    "sns.barplot(x=\"Aggregate rating\", y=\"Count\", data=grouped)"
   ]
  },
  {
   "cell_type": "code",
   "execution_count": 32,
   "id": "fb1dbb8f",
   "metadata": {},
   "outputs": [
    {
     "data": {
      "text/plain": [
       "<AxesSubplot:xlabel='Aggregate rating', ylabel='Count'>"
      ]
     },
     "execution_count": 32,
     "metadata": {},
     "output_type": "execute_result"
    },
    {
     "data": {
      "image/png": "[encoded data removed]",
      "text/plain": [
       "<Figure size 864x432 with 1 Axes>"
      ]
     },
     "metadata": {
      "needs_background": "light"
     },
     "output_type": "display_data"
    }
   ],
   "source": [
    "# Matching color to Rating color as hue did not create an exact match\n",
    "# using blue for white as white is not seen\n",
    "sns.barplot(x=\"Aggregate rating\", y=\"Count\", data=grouped, hue=\"Rating color\", palette=['blue', 'red', 'orange', 'yellow', 'green', 'green'])"
   ]
  },
  {
   "cell_type": "code",
   "execution_count": null,
   "id": "d333e0e4",
   "metadata": {},
   "outputs": [],
   "source": [
    "# 0 - 2.4 --> Poor\n",
    "# 2.5 - 3.4 --> Average\n",
    "# 3.5 - 3.9 --> Good\n",
    "# 4 - 4.4 --> Very Good\n",
    "# 4.5 - 4.9 --> Excellent\n",
    "# From the data, max people have not rated.\n",
    "# Max observations are between 2.5 - 3.4"
   ]
  },
  {
   "cell_type": "code",
   "execution_count": 33,
   "id": "2c69a7d2",
   "metadata": {},
   "outputs": [
    {
     "data": {
      "text/plain": [
       "<AxesSubplot:xlabel='Rating color', ylabel='count'>"
      ]
     },
     "execution_count": 33,
     "metadata": {},
     "output_type": "execute_result"
    },
    {
     "data": {
      "image/png": "[encoded data removed]",
      "text/plain": [
       "<Figure size 864x432 with 1 Axes>"
      ]
     },
     "metadata": {
      "needs_background": "light"
     },
     "output_type": "display_data"
    }
   ],
   "source": [
    "# Count plot\n",
    "sns.countplot(x=\"Rating color\", data=grouped, palette=['blue', 'red', 'orange', 'yellow', 'green', 'green'])"
   ]
  },
  {
   "cell_type": "code",
   "execution_count": 43,
   "id": "674d4df1",
   "metadata": {},
   "outputs": [
    {
     "name": "stdout",
     "output_type": "stream",
     "text": [
      "  Rating color         Country     0\n",
      "0        White          Brazil     5\n",
      "1        White           India  2139\n",
      "2        White  United Kingdom     1\n",
      "3        White   United States     3\n"
     ]
    }
   ],
   "source": [
    "zero_rating_countries = df[df[\"Rating color\"] == \"White\"].groupby([\"Rating color\", \"Country\"]).size().reset_index()\n",
    "print(zero_rating_countries)"
   ]
  },
  {
   "cell_type": "code",
   "execution_count": 44,
   "id": "42722487",
   "metadata": {},
   "outputs": [
    {
     "data": {
      "text/plain": [
       "Index(['Restaurant ID', 'Restaurant Name', 'Country Code', 'City', 'Address',\n",
       "       'Locality', 'Locality Verbose', 'Longitude', 'Latitude', 'Cuisines',\n",
       "       'Average Cost for two', 'Currency', 'Has Table booking',\n",
       "       'Has Online delivery', 'Is delivering now', 'Switch to order menu',\n",
       "       'Price range', 'Aggregate rating', 'Rating color', 'Rating text',\n",
       "       'Votes', 'Country'],\n",
       "      dtype='object')"
      ]
     },
     "execution_count": 44,
     "metadata": {},
     "output_type": "execute_result"
    }
   ],
   "source": [
    "df.columns"
   ]
  },
  {
   "cell_type": "code",
   "execution_count": 54,
   "id": "6bcbbf71",
   "metadata": {},
   "outputs": [
    {
     "name": "stdout",
     "output_type": "stream",
     "text": [
      "           Country                Currency     0\n",
      "0        Australia               Dollar($)    24\n",
      "1           Brazil      Brazilian Real(R$)    60\n",
      "2           Canada               Dollar($)     4\n",
      "3            India      Indian Rupees(Rs.)  8652\n",
      "4        Indonesia  Indonesian Rupiah(IDR)    21\n",
      "5      New Zealand           NewZealand($)    40\n",
      "6      Phillipines        Botswana Pula(P)    22\n",
      "7            Qatar         Qatari Rial(QR)    20\n",
      "8        Singapore               Dollar($)    20\n",
      "9     South Africa                 Rand(R)    60\n",
      "10       Sri Lanka   Sri Lankan Rupee(LKR)    20\n",
      "11          Turkey        Turkish Lira(TL)    34\n",
      "12             UAE      Emirati Diram(AED)    60\n",
      "13  United Kingdom              Pounds(£)    80\n",
      "14   United States               Dollar($)   434\n"
     ]
    }
   ],
   "source": [
    "currency = df.groupby([\"Country\", \"Currency\"]).size().reset_index()\n",
    "print(currency)"
   ]
  },
  {
   "cell_type": "code",
   "execution_count": 57,
   "id": "79fff813",
   "metadata": {},
   "outputs": [
    {
     "name": "stdout",
     "output_type": "stream",
     "text": [
      "           Country Has Online delivery     0\n",
      "0        Australia                  No    24\n",
      "1           Brazil                  No    60\n",
      "2           Canada                  No     4\n",
      "3            India                  No  6229\n",
      "4            India                 Yes  2423\n",
      "5        Indonesia                  No    21\n",
      "6      New Zealand                  No    40\n",
      "7      Phillipines                  No    22\n",
      "8            Qatar                  No    20\n",
      "9        Singapore                  No    20\n",
      "10    South Africa                  No    60\n",
      "11       Sri Lanka                  No    20\n",
      "12          Turkey                  No    34\n",
      "13             UAE                  No    32\n",
      "14             UAE                 Yes    28\n",
      "15  United Kingdom                  No    80\n",
      "16   United States                  No   434\n"
     ]
    }
   ],
   "source": [
    "online_delivery = df.groupby([\"Country\", \"Has Online delivery\"]).size().reset_index()\n",
    "print(online_delivery)"
   ]
  },
  {
   "cell_type": "code",
   "execution_count": 58,
   "id": "17d238cb",
   "metadata": {},
   "outputs": [],
   "source": [
    "# Online deliveries are available only in India and UAE\n",
    "# Certain regions have no delivery in India as well"
   ]
  },
  {
   "cell_type": "code",
   "execution_count": 60,
   "id": "49674025",
   "metadata": {},
   "outputs": [],
   "source": [
    "city_names = df[\"City\"].value_counts().index\n",
    "city_counts = df[\"City\"].value_counts().values"
   ]
  },
  {
   "cell_type": "code",
   "execution_count": 62,
   "id": "1076969d",
   "metadata": {},
   "outputs": [
    {
     "data": {
      "text/plain": [
       "([<matplotlib.patches.Wedge at 0x218482504f0>,\n",
       "  <matplotlib.patches.Wedge at 0x21848250be0>,\n",
       "  <matplotlib.patches.Wedge at 0x2184827d2b0>,\n",
       "  <matplotlib.patches.Wedge at 0x2184827d940>,\n",
       "  <matplotlib.patches.Wedge at 0x2184827dfa0>,\n",
       "  <matplotlib.patches.Wedge at 0x2184828e6d0>,\n",
       "  <matplotlib.patches.Wedge at 0x2184828ed60>,\n",
       "  <matplotlib.patches.Wedge at 0x2184829c430>,\n",
       "  <matplotlib.patches.Wedge at 0x2184829cac0>,\n",
       "  <matplotlib.patches.Wedge at 0x218482b8190>],\n",
       " [Text(-0.5885541119444019, 0.9293029954290133, 'New Delhi'),\n",
       "  Text(-0.006008322137253758, -1.099983590816288, 'Gurgaon'),\n",
       "  Text(0.8279428936915272, -0.7242310161721195, 'Noida'),\n",
       "  Text(1.0782100088727444, -0.21786045250718752, 'Faridabad'),\n",
       "  Text(1.0953795414972105, -0.10071573893568578, 'Ghaziabad'),\n",
       "  Text(1.097010627021975, -0.08104124999562284, 'Lucknow'),\n",
       "  Text(1.0981912920377443, -0.06305462784340321, 'Amritsar'),\n",
       "  Text(1.0990770676906627, -0.04505107408813379, 'Guwahati'),\n",
       "  Text(1.0996677161298025, -0.027035423093857848, 'Bhubaneshwar'),\n",
       "  Text(1.0999630787526116, -0.00901251247300567, 'Ahmedabad')],\n",
       " [Text(-0.3210295156060373, 0.50689254296128, '67.97%'),\n",
       "  Text(-0.003277266620320231, -0.5999910495361571, '13.88%'),\n",
       "  Text(0.4516052147408329, -0.3950350997302469, '13.41%'),\n",
       "  Text(0.5881145502942242, -0.11883297409482954, '3.12%'),\n",
       "  Text(0.5974797499075692, -0.054935857601283146, '0.31%'),\n",
       "  Text(0.5983694329210772, -0.044204318179430636, '0.26%'),\n",
       "  Text(0.5990134320205878, -0.03439343336912902, '0.26%'),\n",
       "  Text(0.5994965823767251, -0.024573313138982065, '0.26%'),\n",
       "  Text(0.5998187542526195, -0.014746594414831551, '0.26%'),\n",
       "  Text(0.5999798611377881, -0.004915915894366729, '0.26%')])"
      ]
     },
     "execution_count": 62,
     "metadata": {},
     "output_type": "execute_result"
    },
    {
     "data": {
      "image/png": "[encoded data removed]",
      "text/plain": [
       "<Figure size 864x432 with 1 Axes>"
      ]
     },
     "metadata": {},
     "output_type": "display_data"
    }
   ],
   "source": [
    "plt.pie(city_counts[:10], labels=city_names[:10], autopct=\"%1.2f%%\") # Taking top 10 else pie looks ugly"
   ]
  },
  {
   "cell_type": "code",
   "execution_count": 64,
   "id": "8977e3c7",
   "metadata": {},
   "outputs": [
    {
     "data": {
      "text/plain": [
       "Index(['Restaurant ID', 'Restaurant Name', 'Country Code', 'City', 'Address',\n",
       "       'Locality', 'Locality Verbose', 'Longitude', 'Latitude', 'Cuisines',\n",
       "       'Average Cost for two', 'Currency', 'Has Table booking',\n",
       "       'Has Online delivery', 'Is delivering now', 'Switch to order menu',\n",
       "       'Price range', 'Aggregate rating', 'Rating color', 'Rating text',\n",
       "       'Votes', 'Country'],\n",
       "      dtype='object')"
      ]
     },
     "execution_count": 64,
     "metadata": {},
     "output_type": "execute_result"
    }
   ],
   "source": [
    "df.columns"
   ]
  },
  {
   "cell_type": "code",
   "execution_count": 67,
   "id": "a7864e75",
   "metadata": {},
   "outputs": [
    {
     "data": {
      "text/plain": [
       "North Indian                                         936\n",
       "North Indian, Chinese                                511\n",
       "Chinese                                              354\n",
       "Fast Food                                            354\n",
       "North Indian, Mughlai                                334\n",
       "                                                    ... \n",
       "Cafe, Pizza, Burger                                    1\n",
       "Latin American, Italian                                1\n",
       "Korean, Japanese, Chinese, Asian                       1\n",
       "Continental, Mediterranean, Italian, North Indian      1\n",
       "North Indian, Continental, Lebanese                    1\n",
       "Name: Cuisines, Length: 1825, dtype: int64"
      ]
     },
     "execution_count": 67,
     "metadata": {},
     "output_type": "execute_result"
    }
   ],
   "source": [
    "df[\"Cuisines\"].value_counts()"
   ]
  },
  {
   "cell_type": "code",
   "execution_count": 66,
   "id": "fec0b0b3",
   "metadata": {},
   "outputs": [
    {
     "name": "stdout",
     "output_type": "stream",
     "text": [
      "                                       Cuisines  0\n",
      "0                                       Afghani  4\n",
      "1                     Afghani, Mughlai, Chinese  1\n",
      "2                         Afghani, North Indian  1\n",
      "3     Afghani, North Indian, Pakistani, Arabian  1\n",
      "4                                       African  1\n",
      "...                                         ... ..\n",
      "1820                       Western, Asian, Cafe  1\n",
      "1821                 Western, Fusion, Fast Food  1\n",
      "1822                              World Cuisine  1\n",
      "1823            World Cuisine, Mexican, Italian  1\n",
      "1824            World Cuisine, Patisserie, Cafe  1\n",
      "\n",
      "[1825 rows x 2 columns]\n"
     ]
    }
   ],
   "source": [
    "top_cuisines = df.groupby([\"Cuisines\"]).size().reset_index()\n",
    "print(top_cuisines)"
   ]
  },
  {
   "cell_type": "code",
   "execution_count": null,
   "id": "d68a24c5",
   "metadata": {},
   "outputs": [],
   "source": []
  }
 ],
 "metadata": {
  "kernelspec": {
   "display_name": "Python 3",
   "language": "python",
   "name": "python3"
  },
  "language_info": {
   "codemirror_mode": {
    "name": "ipython",
    "version": 3
   },
   "file_extension": ".py",
   "mimetype": "text/x-python",
   "name": "python",
   "nbconvert_exporter": "python",
   "pygments_lexer": "ipython3",
   "version": "3.8.8"
  }
 },
 "nbformat": 4,
 "nbformat_minor": 5
}
